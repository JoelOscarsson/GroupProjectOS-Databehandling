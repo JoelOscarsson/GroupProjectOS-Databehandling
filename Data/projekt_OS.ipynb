{
 "cells": [
  {
   "cell_type": "markdown",
   "metadata": {},
   "source": [
    "# PROJEKT-OS\n",
    "## Data analysis on 120 years of Olympic History"
   ]
  }
 ],
 "metadata": {
  "language_info": {
   "name": "python"
  },
  "orig_nbformat": 4
 },
 "nbformat": 4,
 "nbformat_minor": 2
}
